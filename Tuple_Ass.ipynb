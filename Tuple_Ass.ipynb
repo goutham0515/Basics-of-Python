{
 "cells": [
  {
   "cell_type": "code",
   "execution_count": 1,
   "id": "74ef77ba-8246-49bf-b2a1-6c47ba72bccc",
   "metadata": {},
   "outputs": [
    {
     "data": {
      "text/plain": [
       "('white', 'green')"
      ]
     },
     "execution_count": 1,
     "metadata": {},
     "output_type": "execute_result"
    }
   ],
   "source": [
    "colours = ('orange','white','yellow','green','blue')\n",
    "colours[1:4:2]"
   ]
  },
  {
   "cell_type": "code",
   "execution_count": 7,
   "id": "f4b1eed7-925e-4bb9-b411-a1f688cc07c3",
   "metadata": {},
   "outputs": [
    {
     "name": "stdout",
     "output_type": "stream",
     "text": [
      "5\n"
     ]
    },
    {
     "data": {
      "text/plain": [
       "(50,)"
      ]
     },
     "execution_count": 7,
     "metadata": {},
     "output_type": "execute_result"
    }
   ],
   "source": [
    "t = (10,20,30,40,50)\n",
    "print(len(t))\n",
    "t[::-5]"
   ]
  },
  {
   "cell_type": "code",
   "execution_count": 12,
   "id": "971db15b-a450-4a3b-b1ef-82b7e32b5647",
   "metadata": {},
   "outputs": [
    {
     "data": {
      "text/plain": [
       "True"
      ]
     },
     "execution_count": 12,
     "metadata": {},
     "output_type": "execute_result"
    }
   ],
   "source": [
    "exist = ('java','python','c',)\n",
    "'python' in exist"
   ]
  },
  {
   "cell_type": "code",
   "execution_count": 8,
   "id": "3666243d-b37e-421e-92cb-e28d06dcb330",
   "metadata": {},
   "outputs": [],
   "source": [
    "single = (2,)"
   ]
  },
  {
   "cell_type": "code",
   "execution_count": 14,
   "id": "87092901-1d0b-42b3-ba8b-e17562b39c91",
   "metadata": {},
   "outputs": [
    {
     "name": "stdout",
     "output_type": "stream",
     "text": [
      "{python} is not exist\n",
      "{python} is exist\n",
      "{python} is not exist\n"
     ]
    }
   ],
   "source": [
    "exist = ('java','python','c',)\n",
    "for i in exist:\n",
    "    if i == 'python':\n",
    "        print('{python} is exist')\n",
    "    else:\n",
    "        print('{python} is not exist')"
   ]
  },
  {
   "cell_type": "code",
   "execution_count": 10,
   "id": "2013072f-5ed8-43a3-a860-08e684946a74",
   "metadata": {},
   "outputs": [
    {
     "name": "stdout",
     "output_type": "stream",
     "text": [
      "('apple', 'banana', 'cherry')\n"
     ]
    }
   ],
   "source": [
    "lst = ['apple','banana','cherry']\n",
    "print(tuple(lst))"
   ]
  },
  {
   "cell_type": "code",
   "execution_count": 16,
   "id": "4e22cb16-ab42-4d6b-88c9-150bcf9b23bf",
   "metadata": {},
   "outputs": [
    {
     "data": {
      "text/plain": [
       "(1, 2, 3)"
      ]
     },
     "execution_count": 16,
     "metadata": {},
     "output_type": "execute_result"
    }
   ],
   "source": [
    "t = (1,2,3,4,5,6)\n",
    "t[:3]"
   ]
  },
  {
   "cell_type": "code",
   "execution_count": 26,
   "id": "d10a37fc-4a0c-4172-b8cb-e826c7ea5d41",
   "metadata": {},
   "outputs": [
    {
     "data": {
      "text/plain": [
       "(2, 3)"
      ]
     },
     "execution_count": 26,
     "metadata": {},
     "output_type": "execute_result"
    }
   ],
   "source": [
    "t[1:-3]"
   ]
  },
  {
   "cell_type": "code",
   "execution_count": 8,
   "id": "cee1714c-1dbd-4052-b6b7-ba819a7c3a93",
   "metadata": {},
   "outputs": [
    {
     "name": "stdout",
     "output_type": "stream",
     "text": [
      "it is exit\n"
     ]
    }
   ],
   "source": [
    "exit = ('java' , 'python' , 'c')\n",
    "if 'python' in exit:\n",
    "    print('it is exit')\n",
    "else:\n",
    "    print('it is not exit')"
   ]
  },
  {
   "cell_type": "code",
   "execution_count": 9,
   "id": "d919afdd-fa8e-4f17-8513-495256a5b82d",
   "metadata": {},
   "outputs": [
    {
     "data": {
      "text/plain": [
       "(11, 2, 3)"
      ]
     },
     "execution_count": 9,
     "metadata": {},
     "output_type": "execute_result"
    }
   ],
   "source": [
    "t = (11,2,3,4,5,6)\n",
    "t[:3]"
   ]
  },
  {
   "cell_type": "code",
   "execution_count": 20,
   "id": "eed5ae48-cabb-4d57-aaaf-c41eb98242f6",
   "metadata": {},
   "outputs": [
    {
     "data": {
      "text/plain": [
       "(5, 6)"
      ]
     },
     "execution_count": 20,
     "metadata": {},
     "output_type": "execute_result"
    }
   ],
   "source": [
    "t[4:]"
   ]
  },
  {
   "cell_type": "code",
   "execution_count": 21,
   "id": "74d72dba-49b3-4281-8c97-3ee4e64c33e0",
   "metadata": {},
   "outputs": [
    {
     "name": "stdout",
     "output_type": "stream",
     "text": [
      "(1, 2, 3, 4)\n"
     ]
    }
   ],
   "source": [
    "a = (1,2)\n",
    "b = (3,4)\n",
    "c = a + b\n",
    "print(c)"
   ]
  },
  {
   "cell_type": "code",
   "execution_count": 24,
   "id": "92f35846-5883-483a-9f7f-523fe56f7683",
   "metadata": {},
   "outputs": [
    {
     "name": "stdout",
     "output_type": "stream",
     "text": [
      "(1, 2, 1, 2, 1, 2)\n"
     ]
    }
   ],
   "source": [
    "t1 = (1,2)\n",
    "c = t1*3\n",
    "print(c)"
   ]
  },
  {
   "cell_type": "code",
   "execution_count": 30,
   "id": "cc1277d0-98d0-407b-bbf8-1c065dcf2297",
   "metadata": {},
   "outputs": [],
   "source": [
    "x = (10,20,30)"
   ]
  },
  {
   "cell_type": "code",
   "execution_count": 32,
   "id": "4bac5363-8e95-4b6b-9a0a-d4409c40b8ae",
   "metadata": {},
   "outputs": [
    {
     "data": {
      "text/plain": [
       "30"
      ]
     },
     "execution_count": 32,
     "metadata": {},
     "output_type": "execute_result"
    }
   ],
   "source": [
    "a,b,c = x"
   ]
  },
  {
   "cell_type": "code",
   "execution_count": 33,
   "id": "74a8b86e-37af-4fbf-87dd-a63ba279b5c9",
   "metadata": {},
   "outputs": [
    {
     "name": "stdout",
     "output_type": "stream",
     "text": [
      "10\n",
      "20\n",
      "30\n"
     ]
    }
   ],
   "source": [
    "print(a)\n",
    "print(b)\n",
    "print(c)"
   ]
  },
  {
   "cell_type": "code",
   "execution_count": 39,
   "id": "5cb6a5e3-4f4c-4ffd-ad3f-30bf495da005",
   "metadata": {},
   "outputs": [
    {
     "name": "stdout",
     "output_type": "stream",
     "text": [
      "30 200\n"
     ]
    }
   ],
   "source": [
    "def calculate(a,b):\n",
    "    summ = a+b\n",
    "    product = a*b\n",
    "    return summ , product\n",
    "x , y = calculate(10,20)\n",
    "print(x,y)"
   ]
  },
  {
   "cell_type": "code",
   "execution_count": 41,
   "id": "9c001d6a-8f6b-44f4-a124-fcc1cacf4e22",
   "metadata": {},
   "outputs": [
    {
     "name": "stdout",
     "output_type": "stream",
     "text": [
      "3\n"
     ]
    }
   ],
   "source": [
    "thr = (1,2,3,3,3,4)\n",
    "print(thr.count(3))"
   ]
  },
  {
   "cell_type": "code",
   "execution_count": 42,
   "id": "253b9068-ee8b-46d1-b0f0-ea0408f0213d",
   "metadata": {},
   "outputs": [
    {
     "data": {
      "text/plain": [
       "1"
      ]
     },
     "execution_count": 42,
     "metadata": {},
     "output_type": "execute_result"
    }
   ],
   "source": [
    "hou = ('dog' , 'cat' , 'mouse')\n",
    "hou.index('cat')"
   ]
  },
  {
   "cell_type": "code",
   "execution_count": 43,
   "id": "cbcde304-5c11-4c33-ae91-82f1f2374f6b",
   "metadata": {},
   "outputs": [
    {
     "data": {
      "text/plain": [
       "('h', 'e', 'l', 'l', 'o')"
      ]
     },
     "execution_count": 43,
     "metadata": {},
     "output_type": "execute_result"
    }
   ],
   "source": [
    "st = \"hello\"\n",
    "c = tuple(st)\n",
    "c"
   ]
  },
  {
   "cell_type": "code",
   "execution_count": 49,
   "id": "54a9644f-868a-418e-8657-119587f39a4b",
   "metadata": {},
   "outputs": [
    {
     "name": "stdout",
     "output_type": "stream",
     "text": [
      "('h', 'e', 'l', 'l', 'o')\n"
     ]
    }
   ],
   "source": [
    "st = \"hello\"\n",
    "li = []\n",
    "for i in st:\n",
    "    li.append(i)\n",
    "result = tuple(li)\n",
    "print(result)"
   ]
  },
  {
   "cell_type": "code",
   "execution_count": 64,
   "id": "cc1b59e4-9bd8-4f06-824e-93ad9b2e5773",
   "metadata": {},
   "outputs": [
    {
     "name": "stdout",
     "output_type": "stream",
     "text": [
      "1 : min\n",
      "6\n"
     ]
    }
   ],
   "source": [
    "tu = (1,2,3,4,5,6)\n",
    "for i in tu:\n",
    "    if i == max(tu):\n",
    "        print(i)\n",
    "    elif i == min(tu):\n",
    "        print(f'{i} : min')\n",
    "          "
   ]
  },
  {
   "cell_type": "code",
   "execution_count": 58,
   "id": "27463771-04a1-40c1-8cb2-61463d5dfc5e",
   "metadata": {},
   "outputs": [
    {
     "data": {
      "text/plain": [
       "6"
      ]
     },
     "execution_count": 58,
     "metadata": {},
     "output_type": "execute_result"
    }
   ],
   "source": [
    "max(tu)"
   ]
  },
  {
   "cell_type": "code",
   "execution_count": null,
   "id": "809be7c0-b5b2-4003-b0e5-c0f8948e8168",
   "metadata": {},
   "outputs": [],
   "source": []
  }
 ],
 "metadata": {
  "kernelspec": {
   "display_name": "Python 3 (ipykernel)",
   "language": "python",
   "name": "python3"
  },
  "language_info": {
   "codemirror_mode": {
    "name": "ipython",
    "version": 3
   },
   "file_extension": ".py",
   "mimetype": "text/x-python",
   "name": "python",
   "nbconvert_exporter": "python",
   "pygments_lexer": "ipython3",
   "version": "3.13.5"
  }
 },
 "nbformat": 4,
 "nbformat_minor": 5
}
