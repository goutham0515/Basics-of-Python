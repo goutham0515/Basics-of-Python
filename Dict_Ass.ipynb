{
 "cells": [
  {
   "cell_type": "markdown",
   "id": "a942d29e-43fa-4e60-97ef-954cf64fe498",
   "metadata": {},
   "source": [
    "### Create a dictionary of 3 students and their marks."
   ]
  },
  {
   "cell_type": "code",
   "execution_count": 3,
   "id": "2b171063-4fcc-40f6-ab85-74a582c65c4a",
   "metadata": {},
   "outputs": [],
   "source": [
    "students = {'rajesh':100,'bharath':99,'goutham':90}"
   ]
  },
  {
   "cell_type": "markdown",
   "id": "b2a3aeb8-3e78-4106-a8f8-2b1e8ad4fec8",
   "metadata": {},
   "source": [
    "### Access marks of a student using their name."
   ]
  },
  {
   "cell_type": "code",
   "execution_count": 6,
   "id": "b56bdc64-172f-4816-9d6a-6224ee36fd0f",
   "metadata": {},
   "outputs": [
    {
     "name": "stdout",
     "output_type": "stream",
     "text": [
      "100\n"
     ]
    }
   ],
   "source": [
    "print(students['rajesh'])"
   ]
  },
  {
   "cell_type": "code",
   "execution_count": 8,
   "id": "1dcf5c26-7c65-4a2c-8626-d6132ba12ef0",
   "metadata": {},
   "outputs": [
    {
     "name": "stdout",
     "output_type": "stream",
     "text": [
      "99\n"
     ]
    }
   ],
   "source": [
    "print(students['bharath'])"
   ]
  },
  {
   "cell_type": "code",
   "execution_count": 10,
   "id": "5ae294f8-7356-4ffa-84fe-e035a6447e97",
   "metadata": {},
   "outputs": [
    {
     "name": "stdout",
     "output_type": "stream",
     "text": [
      "90\n"
     ]
    }
   ],
   "source": [
    "print(students['goutham'])"
   ]
  },
  {
   "cell_type": "markdown",
   "id": "33312be7-2d8b-4e16-8408-d45417e15aba",
   "metadata": {},
   "source": [
    "### Add a new student to the dictionary."
   ]
  },
  {
   "cell_type": "code",
   "execution_count": 13,
   "id": "d1c4441d-9d9b-45f3-95c2-438b56d99f03",
   "metadata": {},
   "outputs": [
    {
     "data": {
      "text/plain": [
       "{'rajesh': 100, 'bharath': 99, 'goutham': 90, 'pavan': 91}"
      ]
     },
     "execution_count": 13,
     "metadata": {},
     "output_type": "execute_result"
    }
   ],
   "source": [
    "students.update({'pavan':91})\n",
    "students"
   ]
  },
  {
   "cell_type": "markdown",
   "id": "c3154a40-3558-4e25-a4f1-16299a103048",
   "metadata": {},
   "source": [
    " ### Update marks of an existing student."
   ]
  },
  {
   "cell_type": "code",
   "execution_count": 14,
   "id": "06579a57-c5c3-472d-bc15-29d5bb036fea",
   "metadata": {},
   "outputs": [
    {
     "data": {
      "text/plain": [
       "{'rajesh': 100, 'bharath': 99, 'goutham': 91, 'pavan': 91}"
      ]
     },
     "execution_count": 14,
     "metadata": {},
     "output_type": "execute_result"
    }
   ],
   "source": [
    "students.update({'goutham':91})\n",
    "students"
   ]
  },
  {
   "cell_type": "markdown",
   "id": "84779b81-4fc5-4e54-9fc1-bc7b81f608ad",
   "metadata": {},
   "source": [
    " ### Remove a student using pop()"
   ]
  },
  {
   "cell_type": "code",
   "execution_count": 20,
   "id": "402e21c9-72b1-42a8-9609-fe163948cdf0",
   "metadata": {},
   "outputs": [
    {
     "data": {
      "text/plain": [
       "{'rajesh': 100, 'bharath': 99, 'pavan': 91}"
      ]
     },
     "execution_count": 20,
     "metadata": {},
     "output_type": "execute_result"
    }
   ],
   "source": [
    "students.pop('goutham')\n",
    "students"
   ]
  },
  {
   "cell_type": "markdown",
   "id": "2e473dbf-6a91-4a32-8d1c-b45519a4fd69",
   "metadata": {},
   "source": [
    "### Use get() to safely access a value."
   ]
  },
  {
   "cell_type": "code",
   "execution_count": 21,
   "id": "3672d07e-a29e-474c-bdc6-218deb67bc37",
   "metadata": {},
   "outputs": [
    {
     "data": {
      "text/plain": [
       "99"
      ]
     },
     "execution_count": 21,
     "metadata": {},
     "output_type": "execute_result"
    }
   ],
   "source": [
    "students.get('bharath')"
   ]
  },
  {
   "cell_type": "markdown",
   "id": "68dddf44-cf13-4219-b28a-97c02c77cef7",
   "metadata": {},
   "source": [
    "### Create a dictionary and get all the items using .items(), check the type of it."
   ]
  },
  {
   "cell_type": "code",
   "execution_count": 22,
   "id": "e6322094-7d45-4ff5-b2a6-418b99287fce",
   "metadata": {},
   "outputs": [
    {
     "name": "stdout",
     "output_type": "stream",
     "text": [
      "dict_items([('rajesh', 100), ('bharath', 99), ('goutham', 90)])\n"
     ]
    }
   ],
   "source": [
    "students = {'rajesh':100,'bharath':99,'goutham':90}\n",
    "print(students.items())"
   ]
  },
  {
   "cell_type": "markdown",
   "id": "0c682879-e0da-4e68-811c-e21d2c76502a",
   "metadata": {},
   "source": [
    "### Get all keys using .keys() and values using .values()"
   ]
  },
  {
   "cell_type": "code",
   "execution_count": 24,
   "id": "345b4052-ef0f-41ae-bbe1-530a474e35c0",
   "metadata": {},
   "outputs": [
    {
     "data": {
      "text/plain": [
       "dict_keys(['rajesh', 'bharath', 'goutham'])"
      ]
     },
     "execution_count": 24,
     "metadata": {},
     "output_type": "execute_result"
    }
   ],
   "source": [
    "students.keys()"
   ]
  },
  {
   "cell_type": "code",
   "execution_count": 25,
   "id": "b74a9452-f003-4518-8b53-425ab8bb2722",
   "metadata": {},
   "outputs": [
    {
     "data": {
      "text/plain": [
       "dict_items([('rajesh', 100), ('bharath', 99), ('goutham', 90)])"
      ]
     },
     "execution_count": 25,
     "metadata": {},
     "output_type": "execute_result"
    }
   ],
   "source": [
    "students.items()"
   ]
  },
  {
   "cell_type": "markdown",
   "id": "ce95fd88-973d-41c8-a147-b4226004be11",
   "metadata": {},
   "source": [
    "### Check if a student exists in the dictionary."
   ]
  },
  {
   "cell_type": "code",
   "execution_count": 29,
   "id": "9fcf601b-7b7b-4f94-9241-9ca1492655ce",
   "metadata": {},
   "outputs": [],
   "source": [
    "students = {'rajesh':100,'bharath':99,'goutham':90}"
   ]
  },
  {
   "cell_type": "code",
   "execution_count": 30,
   "id": "8445229f-1fa0-4733-ac63-3c110180b40d",
   "metadata": {},
   "outputs": [
    {
     "data": {
      "text/plain": [
       "True"
      ]
     },
     "execution_count": 30,
     "metadata": {},
     "output_type": "execute_result"
    }
   ],
   "source": [
    "'rajesh' in students"
   ]
  },
  {
   "cell_type": "markdown",
   "id": "94bac2d0-205d-4269-a921-e20a6159ed84",
   "metadata": {},
   "source": [
    "### Create a dictionary d with 4 key-value pairs.\n",
    "    Convert the dictionary using the following methods one by one:\n",
    "    list(d)\n",
    "    list(d.keys())\n",
    "    list(d.values())\n",
    "    list(d.items())\n",
    "    b)Observe the output of each and note the differences"
   ]
  },
  {
   "cell_type": "code",
   "execution_count": 31,
   "id": "9c4fc7d0-e448-481a-a796-2ef5d584c87c",
   "metadata": {},
   "outputs": [],
   "source": [
    "d = {'rajesh':100,'bharath':99,'goutham':90}"
   ]
  },
  {
   "cell_type": "code",
   "execution_count": 32,
   "id": "55b4a338-b5f1-4a6a-9bd9-085a0a383da8",
   "metadata": {},
   "outputs": [
    {
     "data": {
      "text/plain": [
       "['rajesh', 'bharath', 'goutham']"
      ]
     },
     "execution_count": 32,
     "metadata": {},
     "output_type": "execute_result"
    }
   ],
   "source": [
    "list(d)"
   ]
  },
  {
   "cell_type": "code",
   "execution_count": 33,
   "id": "cd33580e-7d21-4956-83ed-f35ebb6289b6",
   "metadata": {},
   "outputs": [
    {
     "data": {
      "text/plain": [
       "['rajesh', 'bharath', 'goutham']"
      ]
     },
     "execution_count": 33,
     "metadata": {},
     "output_type": "execute_result"
    }
   ],
   "source": [
    "list(d.keys())"
   ]
  },
  {
   "cell_type": "code",
   "execution_count": 34,
   "id": "0d6c6720-64ca-4f09-acdc-716459a8fc4e",
   "metadata": {},
   "outputs": [
    {
     "data": {
      "text/plain": [
       "[100, 99, 90]"
      ]
     },
     "execution_count": 34,
     "metadata": {},
     "output_type": "execute_result"
    }
   ],
   "source": [
    "list(d.values())"
   ]
  },
  {
   "cell_type": "code",
   "execution_count": 35,
   "id": "c4a9dd75-886e-4aa4-ba72-09c4aade4a3d",
   "metadata": {},
   "outputs": [
    {
     "data": {
      "text/plain": [
       "[('rajesh', 100), ('bharath', 99), ('goutham', 90)]"
      ]
     },
     "execution_count": 35,
     "metadata": {},
     "output_type": "execute_result"
    }
   ],
   "source": [
    "list(d.items())"
   ]
  },
  {
   "cell_type": "code",
   "execution_count": null,
   "id": "3607e762-ba27-42d6-a55b-400e11e1daba",
   "metadata": {},
   "outputs": [],
   "source": []
  }
 ],
 "metadata": {
  "kernelspec": {
   "display_name": "Python 3 (ipykernel)",
   "language": "python",
   "name": "python3"
  },
  "language_info": {
   "codemirror_mode": {
    "name": "ipython",
    "version": 3
   },
   "file_extension": ".py",
   "mimetype": "text/x-python",
   "name": "python",
   "nbconvert_exporter": "python",
   "pygments_lexer": "ipython3",
   "version": "3.13.5"
  }
 },
 "nbformat": 4,
 "nbformat_minor": 5
}
