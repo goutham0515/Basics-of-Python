{
 "cells": [
  {
   "cell_type": "code",
   "execution_count": 2,
   "id": "f8a500b6-03c0-43bd-8ca8-b4cc5a182c5a",
   "metadata": {},
   "outputs": [
    {
     "name": "stdout",
     "output_type": "stream",
     "text": [
      "{'banana', 'apple', 'graphs', 'orange', 'kiwi'}\n"
     ]
    },
    {
     "data": {
      "text/plain": [
       "set"
      ]
     },
     "execution_count": 2,
     "metadata": {},
     "output_type": "execute_result"
    }
   ],
   "source": [
    "s1 = {'apple','banana','graphs','orange','kiwi'}\n",
    "print(s1)\n",
    "type(s1)"
   ]
  },
  {
   "cell_type": "code",
   "execution_count": 4,
   "id": "9c53ec20-a25c-4164-9d1c-2d2fefa89514",
   "metadata": {},
   "outputs": [
    {
     "name": "stdout",
     "output_type": "stream",
     "text": [
      "{'banana', 'apple', 'graphs', 'orange', 'mango', 'kiwi'}\n"
     ]
    }
   ],
   "source": [
    "s1.add('mango')\n",
    "print(s1)"
   ]
  },
  {
   "cell_type": "code",
   "execution_count": 9,
   "id": "094a7f90-c310-453f-9375-8e6b2ace490e",
   "metadata": {},
   "outputs": [],
   "source": [
    "s1.add('apple') # set will not allow dublicates "
   ]
  },
  {
   "cell_type": "code",
   "execution_count": 12,
   "id": "2471a126-a815-4bff-8b1f-880d0e690f31",
   "metadata": {},
   "outputs": [
    {
     "name": "stdout",
     "output_type": "stream",
     "text": [
      "{'apple', 'graphs', 'orange', 'mango', 'kiwi'}\n"
     ]
    }
   ],
   "source": [
    "print(s1)"
   ]
  },
  {
   "cell_type": "code",
   "execution_count": null,
   "id": "6efc8467-f2e1-47d2-9bdf-4df5d26cea68",
   "metadata": {},
   "outputs": [],
   "source": [
    "s1.remove('banana')"
   ]
  },
  {
   "cell_type": "code",
   "execution_count": 8,
   "id": "2752712a-c303-40c5-bd26-b9a7d4d7b3d9",
   "metadata": {},
   "outputs": [
    {
     "name": "stdout",
     "output_type": "stream",
     "text": [
      "{'apple', 'graphs', 'orange', 'mango', 'kiwi'}\n"
     ]
    }
   ],
   "source": [
    "print(s1)"
   ]
  },
  {
   "cell_type": "code",
   "execution_count": 13,
   "id": "0d992e7f-4eb1-408b-835e-84c70e5a22ec",
   "metadata": {},
   "outputs": [],
   "source": [
    "s1 = {'apple','banana','graphs','orange','kiwi'}\n",
    "s1.discard('banana')"
   ]
  },
  {
   "cell_type": "code",
   "execution_count": 14,
   "id": "1c53b06f-c1d5-48c5-a083-8faee0e4851f",
   "metadata": {},
   "outputs": [
    {
     "name": "stdout",
     "output_type": "stream",
     "text": [
      "{'apple', 'graphs', 'orange', 'kiwi'}\n"
     ]
    }
   ],
   "source": [
    "print(s1)"
   ]
  },
  {
   "cell_type": "code",
   "execution_count": 15,
   "id": "faf048bd-7dcf-4d67-ae88-5328c9719096",
   "metadata": {},
   "outputs": [
    {
     "data": {
      "text/plain": [
       "False"
      ]
     },
     "execution_count": 15,
     "metadata": {},
     "output_type": "execute_result"
    }
   ],
   "source": [
    "s1 == 'apple'"
   ]
  },
  {
   "cell_type": "code",
   "execution_count": 16,
   "id": "2ac51d0e-20ea-48b7-b441-dfc53d42d4ef",
   "metadata": {},
   "outputs": [],
   "source": [
    "a = {1,2,3,4}\n",
    "b = {5,6,7,8}"
   ]
  },
  {
   "cell_type": "code",
   "execution_count": 20,
   "id": "0fbeb7f1-b8a9-4193-a47b-5f59619ec0c3",
   "metadata": {},
   "outputs": [],
   "source": [
    "s1.clear()"
   ]
  },
  {
   "cell_type": "code",
   "execution_count": 21,
   "id": "7acc77a3-839c-4261-a1bc-a75c00ed5f7b",
   "metadata": {},
   "outputs": [
    {
     "name": "stdout",
     "output_type": "stream",
     "text": [
      "set()\n"
     ]
    }
   ],
   "source": [
    "print(s1)"
   ]
  },
  {
   "cell_type": "code",
   "execution_count": 22,
   "id": "0b0fa65a-63f2-44fa-9c5a-687e4ae8cb8d",
   "metadata": {},
   "outputs": [
    {
     "name": "stdout",
     "output_type": "stream",
     "text": [
      "2 3 6 7 "
     ]
    }
   ],
   "source": [
    "a = {3,6,2,7}\n",
    "for i in a:\n",
    "    print(i, end=\" \")"
   ]
  },
  {
   "cell_type": "code",
   "execution_count": 23,
   "id": "6d1874a8-5523-4f19-b56f-5622d03666ff",
   "metadata": {},
   "outputs": [
    {
     "data": {
      "text/plain": [
       "0"
      ]
     },
     "execution_count": 23,
     "metadata": {},
     "output_type": "execute_result"
    }
   ],
   "source": [
    "len(s1)"
   ]
  },
  {
   "cell_type": "code",
   "execution_count": 26,
   "id": "b63b9eca-e106-4b79-bc3e-628882602e94",
   "metadata": {},
   "outputs": [],
   "source": [
    "my_list = [1,2,2,3,4,4,3,5,6,6]\n",
    "My_list = set(my_list)"
   ]
  },
  {
   "cell_type": "code",
   "execution_count": 27,
   "id": "64021a07-7eb4-4e75-a210-11ea75282ff6",
   "metadata": {},
   "outputs": [
    {
     "name": "stdout",
     "output_type": "stream",
     "text": [
      "{1, 2, 3, 4, 5, 6}\n"
     ]
    }
   ],
   "source": [
    "print(My_list)"
   ]
  },
  {
   "cell_type": "code",
   "execution_count": null,
   "id": "a65bd9ba-9af7-4bff-9655-70f94350f17e",
   "metadata": {},
   "outputs": [],
   "source": []
  }
 ],
 "metadata": {
  "kernelspec": {
   "display_name": "Python 3 (ipykernel)",
   "language": "python",
   "name": "python3"
  },
  "language_info": {
   "codemirror_mode": {
    "name": "ipython",
    "version": 3
   },
   "file_extension": ".py",
   "mimetype": "text/x-python",
   "name": "python",
   "nbconvert_exporter": "python",
   "pygments_lexer": "ipython3",
   "version": "3.13.5"
  }
 },
 "nbformat": 4,
 "nbformat_minor": 5
}
