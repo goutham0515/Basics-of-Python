{
 "cells": [
  {
   "cell_type": "markdown",
   "id": "a302bb2f-b99a-4bc2-94e4-768fb4e64235",
   "metadata": {},
   "source": [
    " ## String\n",
    "      It is represent with codes and it is a sequence of characters \" \" and it is immutable datatype"
   ]
  },
  {
   "cell_type": "code",
   "execution_count": 3,
   "id": "e179510e-1cc6-4a61-b307-c734a102ddd7",
   "metadata": {},
   "outputs": [
    {
     "data": {
      "text/plain": [
       "\"this is pen's \""
      ]
     },
     "execution_count": 3,
     "metadata": {},
     "output_type": "execute_result"
    }
   ],
   "source": [
    "x = \"this is pen's \"\n",
    "x"
   ]
  },
  {
   "cell_type": "code",
   "execution_count": 4,
   "id": "386449d4-38c4-4f82-9ce5-e38df8d0f285",
   "metadata": {},
   "outputs": [
    {
     "data": {
      "text/plain": [
       "'this is \"winter\" season'"
      ]
     },
     "execution_count": 4,
     "metadata": {},
     "output_type": "execute_result"
    }
   ],
   "source": [
    "y = 'this is \"winter\" season'\n",
    "y"
   ]
  },
  {
   "cell_type": "code",
   "execution_count": 8,
   "id": "c32bb249-f78a-4648-964b-a2e55dbfebb6",
   "metadata": {},
   "outputs": [
    {
     "data": {
      "text/plain": [
       "' this is multiline string \\ncreate using triple quotes'"
      ]
     },
     "execution_count": 8,
     "metadata": {},
     "output_type": "execute_result"
    }
   ],
   "source": [
    "m = ''' this is multiline string \n",
    "create using triple quotes'''\n",
    "m"
   ]
  },
  {
   "cell_type": "code",
   "execution_count": 9,
   "id": "0c082364-34c1-4731-ad02-09676104e6d8",
   "metadata": {},
   "outputs": [
    {
     "data": {
      "text/plain": [
       "'higoutham'"
      ]
     },
     "execution_count": 9,
     "metadata": {},
     "output_type": "execute_result"
    }
   ],
   "source": [
    "i = 'hi'\n",
    "j = 'goutham'\n",
    "i+j"
   ]
  },
  {
   "cell_type": "code",
   "execution_count": 10,
   "id": "49be0516-27d4-4fdc-9a56-58b35a845014",
   "metadata": {},
   "outputs": [
    {
     "data": {
      "text/plain": [
       "'hihihihihi'"
      ]
     },
     "execution_count": 10,
     "metadata": {},
     "output_type": "execute_result"
    }
   ],
   "source": [
    "i*5"
   ]
  },
  {
   "cell_type": "markdown",
   "id": "6f542915-5bb0-4590-84de-361b3a80d5f9",
   "metadata": {},
   "source": [
    "# string doesn't support item assisignment"
   ]
  },
  {
   "cell_type": "code",
   "execution_count": 11,
   "id": "35e20809-5ab0-41de-9f2f-bec10e446879",
   "metadata": {},
   "outputs": [
    {
     "ename": "TypeError",
     "evalue": "'str' object does not support item assignment",
     "output_type": "error",
     "traceback": [
      "\u001b[31m---------------------------------------------------------------------------\u001b[39m",
      "\u001b[31mTypeError\u001b[39m                                 Traceback (most recent call last)",
      "\u001b[36mCell\u001b[39m\u001b[36m \u001b[39m\u001b[32mIn[11]\u001b[39m\u001b[32m, line 1\u001b[39m\n\u001b[32m----> \u001b[39m\u001b[32m1\u001b[39m \u001b[43mi\u001b[49m\u001b[43m[\u001b[49m\u001b[32;43m1\u001b[39;49m\u001b[43m]\u001b[49m = j\n",
      "\u001b[31mTypeError\u001b[39m: 'str' object does not support item assignment"
     ]
    }
   ],
   "source": [
    "i[1] = j"
   ]
  },
  {
   "cell_type": "code",
   "execution_count": 16,
   "id": "4c3aff4c-a7d7-435f-9f86-dde60b0a76d8",
   "metadata": {},
   "outputs": [
    {
     "data": {
      "text/plain": [
       "'python  program'"
      ]
     },
     "execution_count": 16,
     "metadata": {},
     "output_type": "execute_result"
    }
   ],
   "source": [
    "i = 'python  program'\n",
    "i"
   ]
  },
  {
   "cell_type": "code",
   "execution_count": 17,
   "id": "62d91dab-3ef3-4521-842b-d28a6166bc13",
   "metadata": {},
   "outputs": [
    {
     "data": {
      "text/plain": [
       "'nohtyp'"
      ]
     },
     "execution_count": 17,
     "metadata": {},
     "output_type": "execute_result"
    }
   ],
   "source": [
    "i[5::-1]"
   ]
  },
  {
   "cell_type": "code",
   "execution_count": 18,
   "id": "745e2c84-b97d-49fc-aee7-01b92fb22c33",
   "metadata": {},
   "outputs": [
    {
     "data": {
      "text/plain": [
       "'margorp  nohtyp'"
      ]
     },
     "execution_count": 18,
     "metadata": {},
     "output_type": "execute_result"
    }
   ],
   "source": [
    "i[::-1]"
   ]
  },
  {
   "cell_type": "markdown",
   "id": "8a2eca6e-f36f-46a2-8485-2c71816908fd",
   "metadata": {},
   "source": [
    "# concatetion of string"
   ]
  },
  {
   "cell_type": "code",
   "execution_count": 22,
   "id": "01bdddc9-03ae-44aa-84a1-357cff05a8b1",
   "metadata": {},
   "outputs": [
    {
     "data": {
      "text/plain": [
       "'marg'"
      ]
     },
     "execution_count": 22,
     "metadata": {},
     "output_type": "execute_result"
    }
   ],
   "source": [
    "i[-1:-5:-1]"
   ]
  },
  {
   "cell_type": "code",
   "execution_count": 26,
   "id": "f5badb26-c8d9-433b-abc4-a0c861d8bd7d",
   "metadata": {},
   "outputs": [
    {
     "data": {
      "text/plain": [
       "'pygram'"
      ]
     },
     "execution_count": 26,
     "metadata": {},
     "output_type": "execute_result"
    }
   ],
   "source": [
    "i[0:2]+ i[11:]"
   ]
  },
  {
   "cell_type": "code",
   "execution_count": 33,
   "id": "fdedc1ab-1aa7-439d-b4d3-192e7f03c4f0",
   "metadata": {},
   "outputs": [
    {
     "data": {
      "text/plain": [
       "'mr.py'"
      ]
     },
     "execution_count": 33,
     "metadata": {},
     "output_type": "execute_result"
    }
   ],
   "source": [
    "i[-1:-4:-2] +\".\" + i[0:2]"
   ]
  },
  {
   "cell_type": "markdown",
   "id": "61e06c6a-2beb-460f-8dca-c853f0bd9204",
   "metadata": {},
   "source": [
    " # substring  in a mainstring \n",
    "   ** in operator"
   ]
  },
  {
   "cell_type": "code",
   "execution_count": 34,
   "id": "d19aa31c-2b22-4f1b-be7a-b7c0a0cf2f2d",
   "metadata": {},
   "outputs": [
    {
     "data": {
      "text/plain": [
       "True"
      ]
     },
     "execution_count": 34,
     "metadata": {},
     "output_type": "execute_result"
    }
   ],
   "source": [
    "'py' in i"
   ]
  },
  {
   "cell_type": "code",
   "execution_count": 37,
   "id": "4e6ad2a3-4231-40ac-8c85-f66fd049eacc",
   "metadata": {},
   "outputs": [
    {
     "name": "stdin",
     "output_type": "stream",
     "text": [
      "enter a number malayalam\n"
     ]
    },
    {
     "name": "stdout",
     "output_type": "stream",
     "text": [
      "malayalam is palindram\n"
     ]
    }
   ],
   "source": [
    "s = input(\"enter a number\")\n",
    "if s == s[::-1]:\n",
    "    print(f'{s} is palindram')\n",
    "else:\n",
    "    print(f'{s} is not palindram')"
   ]
  },
  {
   "cell_type": "code",
   "execution_count": 38,
   "id": "b06838e8-8840-45c2-969b-be9d35c80991",
   "metadata": {},
   "outputs": [
    {
     "data": {
      "text/plain": [
       "15"
      ]
     },
     "execution_count": 38,
     "metadata": {},
     "output_type": "execute_result"
    }
   ],
   "source": [
    "len(i) # total no of characters in a string"
   ]
  },
  {
   "cell_type": "code",
   "execution_count": 39,
   "id": "883c9185-844f-435f-956c-13fda2d38659",
   "metadata": {},
   "outputs": [
    {
     "data": {
      "text/plain": [
       "'python'"
      ]
     },
     "execution_count": 39,
     "metadata": {},
     "output_type": "execute_result"
    }
   ],
   "source": [
    "a = 'PYthOn'\n",
    "a.lower()"
   ]
  },
  {
   "cell_type": "code",
   "execution_count": 40,
   "id": "a8153504-357e-434e-9fc4-b5562f9a60f2",
   "metadata": {},
   "outputs": [
    {
     "data": {
      "text/plain": [
       "'PYTHON'"
      ]
     },
     "execution_count": 40,
     "metadata": {},
     "output_type": "execute_result"
    }
   ],
   "source": [
    "a = 'Python'\n",
    "a.upper()"
   ]
  },
  {
   "cell_type": "code",
   "execution_count": 41,
   "id": "0aa08d64-24fb-447c-8a68-5488035563d9",
   "metadata": {},
   "outputs": [
    {
     "data": {
      "text/plain": [
       "'Python Is A Programm'"
      ]
     },
     "execution_count": 41,
     "metadata": {},
     "output_type": "execute_result"
    }
   ],
   "source": [
    "p = 'pYthon iS a ProgramM'\n",
    "p.title()"
   ]
  },
  {
   "cell_type": "code",
   "execution_count": 42,
   "id": "b3deefc3-aee1-4607-a2e4-cb519a02e5b4",
   "metadata": {},
   "outputs": [
    {
     "data": {
      "text/plain": [
       "True"
      ]
     },
     "execution_count": 42,
     "metadata": {},
     "output_type": "execute_result"
    }
   ],
   "source": [
    "a = 'python'\n",
    "a.islower()"
   ]
  },
  {
   "cell_type": "code",
   "execution_count": 43,
   "id": "f020639f-7027-473a-a237-3494de6cd7a5",
   "metadata": {},
   "outputs": [
    {
     "data": {
      "text/plain": [
       "True"
      ]
     },
     "execution_count": 43,
     "metadata": {},
     "output_type": "execute_result"
    }
   ],
   "source": [
    "a = 'PYTHON'\n",
    "a.isupper()"
   ]
  },
  {
   "cell_type": "code",
   "execution_count": 45,
   "id": "ddd3f530-38dd-4ee5-b577-ef8550132e89",
   "metadata": {},
   "outputs": [
    {
     "data": {
      "text/plain": [
       "True"
      ]
     },
     "execution_count": 45,
     "metadata": {},
     "output_type": "execute_result"
    }
   ],
   "source": [
    "a.startswith('P')"
   ]
  },
  {
   "cell_type": "code",
   "execution_count": 46,
   "id": "7ec590a1-d96c-4354-9bc4-3bede981c1c0",
   "metadata": {},
   "outputs": [
    {
     "data": {
      "text/plain": [
       "True"
      ]
     },
     "execution_count": 46,
     "metadata": {},
     "output_type": "execute_result"
    }
   ],
   "source": [
    "a.endswith('N')"
   ]
  },
  {
   "cell_type": "code",
   "execution_count": 51,
   "id": "b01a5316-50a1-4e5a-a692-14f22d34fc31",
   "metadata": {},
   "outputs": [
    {
     "data": {
      "text/plain": [
       "4"
      ]
     },
     "execution_count": 51,
     "metadata": {},
     "output_type": "execute_result"
    }
   ],
   "source": [
    "a.index(\"ON\")"
   ]
  },
  {
   "cell_type": "code",
   "execution_count": 53,
   "id": "649312d2-125a-4529-80f7-42a5e761e55c",
   "metadata": {},
   "outputs": [
    {
     "data": {
      "text/plain": [
       "'python is a easy language python hase english like syntax'"
      ]
     },
     "execution_count": 53,
     "metadata": {},
     "output_type": "execute_result"
    }
   ],
   "source": [
    "w = \"python is a easy language python hase english like syntax\"\n",
    "w"
   ]
  },
  {
   "cell_type": "code",
   "execution_count": 55,
   "id": "55a28cb0-b368-443d-a506-98617d60f9e6",
   "metadata": {},
   "outputs": [
    {
     "data": {
      "text/plain": [
       "'java is a easy language java hase english like syntax'"
      ]
     },
     "execution_count": 55,
     "metadata": {},
     "output_type": "execute_result"
    }
   ],
   "source": [
    "w.replace('python' ,'java')"
   ]
  },
  {
   "cell_type": "code",
   "execution_count": 56,
   "id": "b990f72d-092a-44a1-8602-8c2ece742b08",
   "metadata": {},
   "outputs": [
    {
     "data": {
      "text/plain": [
       "'java is a easy language java hase english like syntax'"
      ]
     },
     "execution_count": 56,
     "metadata": {},
     "output_type": "execute_result"
    }
   ],
   "source": [
    "w.replace('python' , 'java')"
   ]
  },
  {
   "cell_type": "code",
   "execution_count": 57,
   "id": "beb533bd-bf76-49fa-b208-d7efd9bdf213",
   "metadata": {},
   "outputs": [
    {
     "data": {
      "text/plain": [
       "'      remove        '"
      ]
     },
     "execution_count": 57,
     "metadata": {},
     "output_type": "execute_result"
    }
   ],
   "source": [
    "n = \"      remove        \"\n",
    "n"
   ]
  },
  {
   "cell_type": "code",
   "execution_count": 58,
   "id": "1ef7517c-0d74-4599-8b5c-233c4f307d9e",
   "metadata": {},
   "outputs": [
    {
     "data": {
      "text/plain": [
       "'remove'"
      ]
     },
     "execution_count": 58,
     "metadata": {},
     "output_type": "execute_result"
    }
   ],
   "source": [
    "n.strip()"
   ]
  },
  {
   "cell_type": "code",
   "execution_count": 59,
   "id": "50a90269-da7c-4ea9-afcb-c9fa2f731066",
   "metadata": {},
   "outputs": [
    {
     "data": {
      "text/plain": [
       "'$$$ hello $$'"
      ]
     },
     "execution_count": 59,
     "metadata": {},
     "output_type": "execute_result"
    }
   ],
   "source": [
    "m = \"$$$ hello $$\"\n",
    "m"
   ]
  },
  {
   "cell_type": "code",
   "execution_count": 63,
   "id": "36d873ab-73e7-41a3-a403-99b06559551e",
   "metadata": {},
   "outputs": [
    {
     "data": {
      "text/plain": [
       "'hello'"
      ]
     },
     "execution_count": 63,
     "metadata": {},
     "output_type": "execute_result"
    }
   ],
   "source": [
    "m.strip('$  ')"
   ]
  },
  {
   "cell_type": "code",
   "execution_count": 2,
   "id": "3e43c425-8f7a-48a7-9823-03d007b9f0eb",
   "metadata": {},
   "outputs": [
    {
     "name": "stdin",
     "output_type": "stream",
     "text": [
      "enter a value :  alics\n"
     ]
    }
   ],
   "source": [
    "x = input('enter a value : ')"
   ]
  },
  {
   "cell_type": "code",
   "execution_count": null,
   "id": "aa78e69c-ddb0-4cf2-a23a-4f904883f265",
   "metadata": {},
   "outputs": [],
   "source": []
  }
 ],
 "metadata": {
  "kernelspec": {
   "display_name": "Python 3 (ipykernel)",
   "language": "python",
   "name": "python3"
  },
  "language_info": {
   "codemirror_mode": {
    "name": "ipython",
    "version": 3
   },
   "file_extension": ".py",
   "mimetype": "text/x-python",
   "name": "python",
   "nbconvert_exporter": "python",
   "pygments_lexer": "ipython3",
   "version": "3.13.5"
  }
 },
 "nbformat": 4,
 "nbformat_minor": 5
}
