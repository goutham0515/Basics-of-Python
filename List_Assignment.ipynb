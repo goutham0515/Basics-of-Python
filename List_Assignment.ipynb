{
 "cells": [
  {
   "cell_type": "code",
   "execution_count": 1,
   "id": "699f68f8-a7eb-4bf2-abfe-8fbbe1c7de8e",
   "metadata": {},
   "outputs": [],
   "source": [
    "fruits = ['apple','banana','graphs','pinrapple','kiws']"
   ]
  },
  {
   "cell_type": "code",
   "execution_count": 2,
   "id": "aa35a2cf-b380-424a-a0f5-4898462dec89",
   "metadata": {},
   "outputs": [],
   "source": [
    "fruits.append('orange')"
   ]
  },
  {
   "cell_type": "code",
   "execution_count": 3,
   "id": "a456e91f-ba25-4a1b-8d7f-4fa7ec6bc71d",
   "metadata": {},
   "outputs": [
    {
     "name": "stdout",
     "output_type": "stream",
     "text": [
      "['apple', 'banana', 'graphs', 'pinrapple', 'kiws', 'orange']\n"
     ]
    }
   ],
   "source": [
    "print(fruits)"
   ]
  },
  {
   "cell_type": "markdown",
   "id": "a99eb96b-b84e-4e56-bff0-393148a23db5",
   "metadata": {},
   "source": [
    "2. Create a list of numbers from 1 to 5.\n",
    " Insert the number 10 at the second position."
   ]
  },
  {
   "cell_type": "code",
   "execution_count": 5,
   "id": "2a354931-7fef-44e2-9214-6f3b01908799",
   "metadata": {},
   "outputs": [
    {
     "name": "stdout",
     "output_type": "stream",
     "text": [
      "[1, 2, 10, 3, 4, 5]\n"
     ]
    }
   ],
   "source": [
    "num = [1,2,3,4,5]\n",
    "num.insert(2,10)\n",
    "print(num)"
   ]
  },
  {
   "cell_type": "markdown",
   "id": "dc217346-f555-4ab8-8368-d31ad7f44a5d",
   "metadata": {},
   "source": [
    "3. Create a list with duplicate elements.\n",
    " Use a method to find how many times a particular element appears."
   ]
  },
  {
   "cell_type": "code",
   "execution_count": 7,
   "id": "eb9a4482-b204-41cd-a28a-9bf30245188b",
   "metadata": {},
   "outputs": [
    {
     "name": "stdout",
     "output_type": "stream",
     "text": [
      "3\n"
     ]
    }
   ],
   "source": [
    "a = [1,4,6,3,6,2,6]\n",
    "print(a.count(6))"
   ]
  },
  {
   "cell_type": "markdown",
   "id": "14e25ecf-7ccc-4e84-80a5-bfdc54b8b96a",
   "metadata": {},
   "source": [
    "4. Remove the third item from a list of 6 elements using a list method."
   ]
  },
  {
   "cell_type": "code",
   "execution_count": 8,
   "id": "1e3f71ac-b0fd-44f1-a83e-8f93cd79d0f8",
   "metadata": {},
   "outputs": [
    {
     "name": "stdout",
     "output_type": "stream",
     "text": [
      "3\n"
     ]
    }
   ],
   "source": [
    "lis = [1,2,3,4,5,6]\n",
    "print(a.pop(3))"
   ]
  },
  {
   "cell_type": "markdown",
   "id": "6aefaee4-95ff-4194-a1eb-7c63e8e5a2a5",
   "metadata": {},
   "source": [
    "5. Create a list of your three favorite subjects.\n",
    " Replace the second subject with \"Mathematics\"."
   ]
  },
  {
   "cell_type": "code",
   "execution_count": 36,
   "id": "bc10bb58-3c20-4864-adb6-9455f4f10610",
   "metadata": {},
   "outputs": [
    {
     "name": "stdout",
     "output_type": "stream",
     "text": [
      "['maths', 'science', 'mathematics']\n"
     ]
    }
   ],
   "source": [
    "sub = ['maths','science','social']\n",
    "sub[2] = 'mathematics'\n",
    "print(sub)"
   ]
  },
  {
   "cell_type": "markdown",
   "id": "e4e19fe7-3de0-464f-8aa8-0baed553f465",
   "metadata": {},
   "source": [
    "Q6. Create a list and remove the last item using the appropriate method."
   ]
  },
  {
   "cell_type": "code",
   "execution_count": 12,
   "id": "72449038-5f7c-48ec-9d19-7abaae024f62",
   "metadata": {},
   "outputs": [
    {
     "name": "stdout",
     "output_type": "stream",
     "text": [
      "['a', 'b', 'c']\n"
     ]
    }
   ],
   "source": [
    "b = ['a','b','c','d']\n",
    "b.pop()\n",
    "print(b)"
   ]
  },
  {
   "cell_type": "markdown",
   "id": "95ca65fe-7773-47bf-a5b4-9f0652d558e7",
   "metadata": {},
   "source": [
    "7. Create a list of countries and add a new country at index 1"
   ]
  },
  {
   "cell_type": "code",
   "execution_count": 14,
   "id": "1389ff20-e105-48e0-a938-048eb7950afd",
   "metadata": {},
   "outputs": [
    {
     "name": "stdout",
     "output_type": "stream",
     "text": [
      "['india', 'america', 'aus', 'canada', 'englind']\n"
     ]
    }
   ],
   "source": [
    "countrys = ['india','aus','canada','englind']\n",
    "countrys.insert(1,'america')\n",
    "print(countrys)"
   ]
  },
  {
   "cell_type": "markdown",
   "id": "23df3598-1dd8-44db-8ef6-06d082407d54",
   "metadata": {},
   "source": [
    "8. Use a list method to find the position of an element in the list."
   ]
  },
  {
   "cell_type": "code",
   "execution_count": 15,
   "id": "b82fd966-3b2f-4bde-9ac2-a1e159222a5d",
   "metadata": {},
   "outputs": [
    {
     "name": "stdout",
     "output_type": "stream",
     "text": [
      "3\n"
     ]
    }
   ],
   "source": [
    "b = ['a','b','c','d']\n",
    "print(b.index('d'))"
   ]
  },
  {
   "cell_type": "markdown",
   "id": "7b9e8951-2835-48fa-8c8c-cfa142c7e94c",
   "metadata": {},
   "source": [
    "9. Create a list and check whether an item \"apple\" exists in it or not (you can use the in keyword)."
   ]
  },
  {
   "cell_type": "code",
   "execution_count": 39,
   "id": "7c2d28fa-f4a2-4bfe-b9b1-cd6e8401f621",
   "metadata": {},
   "outputs": [
    {
     "data": {
      "text/plain": [
       "True"
      ]
     },
     "execution_count": 39,
     "metadata": {},
     "output_type": "execute_result"
    }
   ],
   "source": [
    "fruits =  ['apple','banana','graphs','pinrapple','kiws']"
   ]
  },
  {
   "cell_type": "code",
   "execution_count": 40,
   "id": "d309a39a-0829-44ec-83c4-932e77e4fa79",
   "metadata": {},
   "outputs": [
    {
     "name": "stdout",
     "output_type": "stream",
     "text": [
      "b\n"
     ]
    }
   ],
   "source": [
    "b = ['a','b','c','d']\n",
    "c = b.pop(1)\n",
    "print(c)"
   ]
  },
  {
   "cell_type": "markdown",
   "id": "066c7eb0-f15a-4a50-aa17-f73f02ac8d67",
   "metadata": {},
   "source": [
    "List Methods"
   ]
  },
  {
   "cell_type": "code",
   "execution_count": 41,
   "id": "7a141dce-901a-47df-80cb-1527f5c911ea",
   "metadata": {},
   "outputs": [
    {
     "name": "stdout",
     "output_type": "stream",
     "text": [
      "[1, 2, 3, 4, 5]\n"
     ]
    }
   ],
   "source": [
    "empty = []\n",
    "empty.append(1)\n",
    "empty.append(2)\n",
    "empty.append(3)\n",
    "empty.append(4)\n",
    "empty.append(5)\n",
    "print(empty)"
   ]
  },
  {
   "cell_type": "code",
   "execution_count": 43,
   "id": "86f8a964-b7cd-4e8f-bc09-05eedf34b7d8",
   "metadata": {},
   "outputs": [
    {
     "name": "stdout",
     "output_type": "stream",
     "text": [
      "['white', 'blue', 'purple', 'green']\n"
     ]
    }
   ],
   "source": [
    "colours = ['white','blue','green']\n",
    "colours.insert(2,'purple')\n",
    "print(colours)"
   ]
  },
  {
   "cell_type": "code",
   "execution_count": 44,
   "id": "a07af1b0-d3f1-4f1e-aa5b-9f0dc6dbf592",
   "metadata": {},
   "outputs": [
    {
     "name": "stdout",
     "output_type": "stream",
     "text": [
      "[5, 1, 2, 3, 4]\n"
     ]
    }
   ],
   "source": [
    "c = [1,2]\n",
    "c.append(3)\n",
    "c.append(4)\n",
    "c.insert(0,5)\n",
    "print(c)"
   ]
  },
  {
   "cell_type": "code",
   "execution_count": null,
   "id": "c66d8a92-3785-4e54-8ad1-a50ddca0571d",
   "metadata": {},
   "outputs": [],
   "source": [
    "Removals"
   ]
  },
  {
   "cell_type": "code",
   "execution_count": 46,
   "id": "94f72857-5674-42e4-a777-0a78cd28dca5",
   "metadata": {},
   "outputs": [
    {
     "name": "stdout",
     "output_type": "stream",
     "text": [
      "['banana', 'graphs', 'pinrapple', 'kiws', 'orange']\n"
     ]
    }
   ],
   "source": [
    "fruits = ['apple','banana','graphs','pinrapple','kiws','orange']\n",
    "fruits.remove('apple')\n",
    "print(fruits)"
   ]
  },
  {
   "cell_type": "code",
   "execution_count": 47,
   "id": "f9a80dd4-34fa-4e90-bbdc-0c44b7da9267",
   "metadata": {},
   "outputs": [
    {
     "name": "stdout",
     "output_type": "stream",
     "text": [
      "orange\n"
     ]
    }
   ],
   "source": [
    "print(fruits.pop())"
   ]
  },
  {
   "cell_type": "code",
   "execution_count": 48,
   "id": "aeb08d8f-71a2-47f1-81b1-6f863352b579",
   "metadata": {},
   "outputs": [
    {
     "name": "stdout",
     "output_type": "stream",
     "text": [
      "pinrapple\n"
     ]
    }
   ],
   "source": [
    "print(fruits.pop(2))"
   ]
  },
  {
   "cell_type": "markdown",
   "id": "f7cd8006-02eb-414c-8a0a-0ec9ce664d75",
   "metadata": {},
   "source": [
    "Finding Elements"
   ]
  },
  {
   "cell_type": "code",
   "execution_count": 49,
   "id": "e503d6bc-c1be-4a9a-aa7c-14fa523d1d69",
   "metadata": {},
   "outputs": [
    {
     "name": "stdout",
     "output_type": "stream",
     "text": [
      "4\n"
     ]
    }
   ],
   "source": [
    "repeted = [1,2,3,3,5,3,7,3]\n",
    "print(repeted.count(3))"
   ]
  },
  {
   "cell_type": "code",
   "execution_count": 50,
   "id": "d89d4476-2ce1-4035-92a3-556c74af8bcc",
   "metadata": {},
   "outputs": [
    {
     "ename": "ValueError",
     "evalue": "list.remove(x): x not in list",
     "output_type": "error",
     "traceback": [
      "\u001b[31m---------------------------------------------------------------------------\u001b[39m",
      "\u001b[31mValueError\u001b[39m                                Traceback (most recent call last)",
      "\u001b[36mCell\u001b[39m\u001b[36m \u001b[39m\u001b[32mIn[50]\u001b[39m\u001b[32m, line 2\u001b[39m\n\u001b[32m      1\u001b[39m c = [\u001b[32m1\u001b[39m,\u001b[32m2\u001b[39m]\n\u001b[32m----> \u001b[39m\u001b[32m2\u001b[39m \u001b[43mc\u001b[49m\u001b[43m.\u001b[49m\u001b[43mremove\u001b[49m\u001b[43m(\u001b[49m\u001b[32;43m3\u001b[39;49m\u001b[43m)\u001b[49m\n\u001b[32m      3\u001b[39m \u001b[38;5;28mprint\u001b[39m(c)\n",
      "\u001b[31mValueError\u001b[39m: list.remove(x): x not in list"
     ]
    }
   ],
   "source": [
    "c = [1,2]\n",
    "c.remove(3) # value not in the list\n",
    "print(c)"
   ]
  },
  {
   "cell_type": "markdown",
   "id": "2435507c-3888-483f-b4ca-7d05f68abf7e",
   "metadata": {},
   "source": [
    "Finding Elements"
   ]
  },
  {
   "cell_type": "code",
   "execution_count": 51,
   "id": "10f460fd-4716-4aa0-a4f3-5e1cb41d03fc",
   "metadata": {},
   "outputs": [
    {
     "data": {
      "text/plain": [
       "0"
      ]
     },
     "execution_count": 51,
     "metadata": {},
     "output_type": "execute_result"
    }
   ],
   "source": [
    "animals = ['cat','rat','lion']\n",
    "animals.index('cat')"
   ]
  },
  {
   "cell_type": "code",
   "execution_count": 52,
   "id": "6264b57c-b365-4338-b46a-3e542ac43df6",
   "metadata": {},
   "outputs": [
    {
     "ename": "ValueError",
     "evalue": "'dog' is not in list",
     "output_type": "error",
     "traceback": [
      "\u001b[31m---------------------------------------------------------------------------\u001b[39m",
      "\u001b[31mValueError\u001b[39m                                Traceback (most recent call last)",
      "\u001b[36mCell\u001b[39m\u001b[36m \u001b[39m\u001b[32mIn[52]\u001b[39m\u001b[32m, line 2\u001b[39m\n\u001b[32m      1\u001b[39m animals = [\u001b[33m'\u001b[39m\u001b[33mcat\u001b[39m\u001b[33m'\u001b[39m,\u001b[33m'\u001b[39m\u001b[33mrat\u001b[39m\u001b[33m'\u001b[39m,\u001b[33m'\u001b[39m\u001b[33mlion\u001b[39m\u001b[33m'\u001b[39m]\n\u001b[32m----> \u001b[39m\u001b[32m2\u001b[39m \u001b[43manimals\u001b[49m\u001b[43m.\u001b[49m\u001b[43mindex\u001b[49m\u001b[43m(\u001b[49m\u001b[33;43m'\u001b[39;49m\u001b[33;43mdog\u001b[39;49m\u001b[33;43m'\u001b[39;49m\u001b[43m)\u001b[49m\n",
      "\u001b[31mValueError\u001b[39m: 'dog' is not in list"
     ]
    }
   ],
   "source": [
    "animals = ['cat','rat','lion']\n",
    "animals.index('dog') # it is not in the list"
   ]
  },
  {
   "cell_type": "code",
   "execution_count": 53,
   "id": "1d3b3a11-bee7-4621-bdcd-1933ced60ea9",
   "metadata": {},
   "outputs": [
    {
     "name": "stdout",
     "output_type": "stream",
     "text": [
      "[1, 2, 3, 4, 5]\n"
     ]
    }
   ],
   "source": [
    "ab = [3,4,5,1,2]\n",
    "ab.sort()\n",
    "print(ab)"
   ]
  },
  {
   "cell_type": "code",
   "execution_count": 54,
   "id": "cfd37d94-2167-4080-b0fe-0324e4bc6e97",
   "metadata": {},
   "outputs": [
    {
     "name": "stdout",
     "output_type": "stream",
     "text": [
      "['ashrith', 'rakesh', 'sai', 'varsha']\n"
     ]
    }
   ],
   "source": [
    "names = ['varsha','sai','ashrith','rakesh']\n",
    "names.sort()\n",
    "print(names)"
   ]
  },
  {
   "cell_type": "code",
   "execution_count": 55,
   "id": "0e37fa57-e1e1-454e-b7b2-2fb249a72bb6",
   "metadata": {},
   "outputs": [
    {
     "name": "stdout",
     "output_type": "stream",
     "text": [
      "[5, 4, 3, 2, 1]\n"
     ]
    }
   ],
   "source": [
    "ab = [3,4,5,1,2]\n",
    "ab.sort(reverse = True)\n",
    "print(ab)"
   ]
  },
  {
   "cell_type": "markdown",
   "id": "5de2e76a-32f9-4cbd-b573-7843a1cd7600",
   "metadata": {},
   "source": [
    "Copying and Clearing"
   ]
  },
  {
   "cell_type": "code",
   "execution_count": 59,
   "id": "467083cf-4a8d-4e4e-9343-abcaf60fd466",
   "metadata": {},
   "outputs": [
    {
     "name": "stdout",
     "output_type": "stream",
     "text": [
      "[1, 2, 3, 4, 5]\n",
      "[1, 2, 3, 4, 5, 1]\n"
     ]
    }
   ],
   "source": [
    "bc = [1,2,3,4,5]\n",
    "c = bc.copy()\n",
    "c.append(1)\n",
    "print(bc)\n",
    "print(c)"
   ]
  },
  {
   "cell_type": "code",
   "execution_count": 60,
   "id": "a1861acc-3ef2-4c3e-a5f9-87206b6d8cf2",
   "metadata": {},
   "outputs": [
    {
     "name": "stdout",
     "output_type": "stream",
     "text": [
      "[]\n"
     ]
    }
   ],
   "source": [
    "cd = [1,2,3,4]\n",
    "cd.clear()\n",
    "print(cd)"
   ]
  },
  {
   "cell_type": "code",
   "execution_count": 64,
   "id": "d7a49ce0-546c-4e99-9913-5246f3be600c",
   "metadata": {},
   "outputs": [
    {
     "name": "stdout",
     "output_type": "stream",
     "text": [
      "[6, 1, 7, 8, 9, 0, 3]\n"
     ]
    }
   ],
   "source": [
    "fg = [5,6,7,8,9,0]\n",
    "fg.insert(2,1)\n",
    "fg.remove(5)\n",
    "fg.append(3)\n",
    "print(fg)"
   ]
  },
  {
   "cell_type": "code",
   "execution_count": 67,
   "id": "a1dbca3b-b7a2-439f-ba28-d379fb7cd861",
   "metadata": {},
   "outputs": [
    {
     "name": "stdout",
     "output_type": "stream",
     "text": [
      "['ajay', 'fivestar', 'ramesh', 'suresh']\n",
      "['suresh', 'ramesh', 'fivestar', 'ajay']\n",
      "['suresh', 'fivestar', 'ajay']\n"
     ]
    }
   ],
   "source": [
    "friends = ['ajay','ramesh','suresh','fivestar']\n",
    "friends.sort()\n",
    "print(friends)\n",
    "friends.reverse()\n",
    "print(friends)\n",
    "friends.pop(1)\n",
    "print(friends)"
   ]
  },
  {
   "cell_type": "code",
   "execution_count": 68,
   "id": "a4bd8cdd-e312-4a73-8b49-a13bc483995c",
   "metadata": {},
   "outputs": [
    {
     "name": "stdout",
     "output_type": "stream",
     "text": [
      "[2, 3, 4, 5]\n",
      "[2, 6, 3, 4, 5]\n",
      "[2, 6, 3, 4]\n"
     ]
    }
   ],
   "source": [
    "gou = [2,3,4]\n",
    "gou.append(5)\n",
    "print(gou)\n",
    "gou.insert(1,6)\n",
    "print(gou)\n",
    "gou.pop()\n",
    "print(gou)"
   ]
  },
  {
   "cell_type": "code",
   "execution_count": 73,
   "id": "2328a9c3-aa44-4dd5-9cf2-a61508245ed9",
   "metadata": {},
   "outputs": [
    {
     "name": "stdout",
     "output_type": "stream",
     "text": [
      "['hyd', 'mbnr', 'jcl', 'kvpt']\n",
      "None\n"
     ]
    }
   ],
   "source": [
    "a = ['hyd','mbnr','jcl','kvpt']\n",
    "b = a.copy()\n",
    "b = b.clear()\n",
    "print(a)\n",
    "print(b)"
   ]
  },
  {
   "cell_type": "code",
   "execution_count": null,
   "id": "65e7f2f9-1a52-49db-baf7-b3fc4e7c8fb3",
   "metadata": {},
   "outputs": [],
   "source": []
  }
 ],
 "metadata": {
  "kernelspec": {
   "display_name": "Python 3 (ipykernel)",
   "language": "python",
   "name": "python3"
  },
  "language_info": {
   "codemirror_mode": {
    "name": "ipython",
    "version": 3
   },
   "file_extension": ".py",
   "mimetype": "text/x-python",
   "name": "python",
   "nbconvert_exporter": "python",
   "pygments_lexer": "ipython3",
   "version": "3.13.5"
  }
 },
 "nbformat": 4,
 "nbformat_minor": 5
}
